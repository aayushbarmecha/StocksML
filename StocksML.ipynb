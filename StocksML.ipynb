{
  "nbformat": 4,
  "nbformat_minor": 0,
  "metadata": {
    "colab": {
      "name": "StocksML.ipynb",
      "provenance": []
    },
    "kernelspec": {
      "name": "python3",
      "display_name": "Python 3"
    },
    "language_info": {
      "name": "python"
    }
  },
  "cells": [
    {
      "cell_type": "code",
      "execution_count": null,
      "metadata": {
        "id": "FtSB6WBsbW3y"
      },
      "outputs": [],
      "source": [
        "import yfinance as yf\n",
        "import pandas as pd\n",
        "import os"
      ]
    },
    {
      "cell_type": "code",
      "source": [
        "if os.path.exists(\"sp500.csv\"):\n",
        "    sp500 = pd.read_csv(\"sp500.csv\", index_col=0)\n",
        "else:\n",
        "    sp500 = yf.Ticker(\"^GSPC\")\n",
        "    sp500 = sp500.history(period=\"max\")\n",
        "    sp500.to_csv(\"sp500.csv\")"
      ],
      "metadata": {
        "id": "EOTx6-Sobg35"
      },
      "execution_count": null,
      "outputs": []
    },
    {
      "cell_type": "code",
      "source": [
        "sp500.index = pd.to_datetime(sp500.index)"
      ],
      "metadata": {
        "id": "A3dt17JObk2X"
      },
      "execution_count": null,
      "outputs": []
    },
    {
      "cell_type": "code",
      "source": [
        "sp500"
      ],
      "metadata": {
        "id": "8x9EHt4mbnrR"
      },
      "execution_count": null,
      "outputs": []
    },
    {
      "cell_type": "code",
      "source": [
        "sp500.plot.line(y=\"Close\", use_index=True)\n"
      ],
      "metadata": {
        "id": "gWmRoHuibpdC"
      },
      "execution_count": null,
      "outputs": []
    },
    {
      "cell_type": "code",
      "source": [
        "del sp500[\"Dividends\"]\n",
        "del sp500[\"Stock Splits\"]"
      ],
      "metadata": {
        "id": "3Oohgog9brmD"
      },
      "execution_count": null,
      "outputs": []
    },
    {
      "cell_type": "code",
      "source": [
        "sp500[\"Tomorrow\"] = sp500[\"Close\"].shift(-1)\n"
      ],
      "metadata": {
        "id": "qXemo1IpbvSb"
      },
      "execution_count": null,
      "outputs": []
    },
    {
      "cell_type": "code",
      "source": [
        "sp500[\"Target\"] = (sp500[\"Tomorrow\"] > sp500[\"Close\"]).astype(int)\n"
      ],
      "metadata": {
        "id": "jvTAav95bxN4"
      },
      "execution_count": null,
      "outputs": []
    },
    {
      "cell_type": "code",
      "source": [
        "sp500 = sp500.loc[\"1990-01-01\":].copy()\n"
      ],
      "metadata": {
        "id": "OVOGh4Bgby1t"
      },
      "execution_count": null,
      "outputs": []
    },
    {
      "cell_type": "code",
      "source": [
        "sp500"
      ],
      "metadata": {
        "id": "J_-uH9t3b0_R"
      },
      "execution_count": null,
      "outputs": []
    },
    {
      "cell_type": "code",
      "source": [
        "from sklearn.ensemble import RandomForestClassifier\n",
        "\n",
        "model = RandomForestClassifier(n_estimators=100, min_samples_split=100, random_state=1)\n",
        "\n",
        "train = sp500.iloc[:-100]\n",
        "test = sp500.iloc[-100:]\n",
        "\n",
        "predictors = [\"Close\", \"Volume\", \"Open\", \"High\", \"Low\"]\n",
        "model.fit(train[predictors], train[\"Target\"])"
      ],
      "metadata": {
        "id": "6rWNbSKzb231"
      },
      "execution_count": null,
      "outputs": []
    },
    {
      "cell_type": "code",
      "source": [
        "from sklearn.metrics import precision_score\n",
        "\n",
        "preds = model.predict(test[predictors])\n",
        "preds = pd.Series(preds, index=test.index)\n",
        "precision_score(test[\"Target\"], preds)"
      ],
      "metadata": {
        "id": "QC8BjG5Eb5Q4"
      },
      "execution_count": null,
      "outputs": []
    },
    {
      "cell_type": "code",
      "source": [
        "combined = pd.concat([test[\"Target\"], preds], axis=1)\n",
        "combined.plot()"
      ],
      "metadata": {
        "id": "U471O4gXb8Qa"
      },
      "execution_count": null,
      "outputs": []
    },
    {
      "cell_type": "code",
      "source": [
        "def predict(train, test, predictors, model):\n",
        "    model.fit(train[predictors], train[\"Target\"])\n",
        "    preds = model.predict(test[predictors])\n",
        "    preds = pd.Series(preds, index=test.index, name=\"Predictions\")\n",
        "pre    return combined"
      ],
      "metadata": {
        "id": "hT-8P3iGcBA9"
      },
      "execution_count": null,
      "outputs": []
    },
    {
      "cell_type": "code",
      "source": [
        "def backtest(data, model, predictors, start=2500, step=250):\n",
        "    all_predictions = []\n",
        "\n",
        "    for i in range(start, data.shape[0], step):\n",
        "        train = data.iloc[0:i].copy()\n",
        "        test = data.iloc[i:(i+step)].copy()\n",
        "        predictions = predict(train, test, predictors, model)\n",
        "        all_predictions.append(predictions)\n",
        "    \n",
        "    return pd.concat(all_predictions)"
      ],
      "metadata": {
        "id": "I_-EX2cBcDFw"
      },
      "execution_count": null,
      "outputs": []
    },
    {
      "cell_type": "code",
      "source": [
        "predictions = backtest(sp500, model, predictors)\n"
      ],
      "metadata": {
        "id": "I0KTf9wLcFNh"
      },
      "execution_count": null,
      "outputs": []
    },
    {
      "cell_type": "code",
      "source": [
        "predictions[\"Predictions\"].value_counts()\n"
      ],
      "metadata": {
        "id": "O6s3PlyQcG9j"
      },
      "execution_count": null,
      "outputs": []
    },
    {
      "cell_type": "code",
      "source": [
        "precision_score(predictions[\"Target\"], predictions[\"Predictions\"])\n"
      ],
      "metadata": {
        "id": "hUwb4CuJcIv-"
      },
      "execution_count": null,
      "outputs": []
    },
    {
      "cell_type": "code",
      "source": [
        "predictions[\"Target\"].value_counts() / predictions.shape[0]\n"
      ],
      "metadata": {
        "id": "83-572ZOcKtL"
      },
      "execution_count": null,
      "outputs": []
    },
    {
      "cell_type": "code",
      "source": [
        "horizons = [2,5,60,250,1000]\n",
        "new_predictors = []\n",
        "\n",
        "for horizon in horizons:\n",
        "    rolling_averages = sp500.rolling(horizon).mean()\n",
        "    \n",
        "    ratio_column = f\"Close_Ratio_{horizon}\"\n",
        "    sp500[ratio_column] = sp500[\"Close\"] / rolling_averages[\"Close\"]\n",
        "    \n",
        "    trend_column = f\"Trend_{horizon}\"\n",
        "    sp500[trend_column] = sp500.shift(1).rolling(horizon).sum()[\"Target\"]\n",
        "    \n",
        "    new_predictors+= [ratio_column, trend_column]"
      ],
      "metadata": {
        "id": "U2jV6aNtcMmJ"
      },
      "execution_count": null,
      "outputs": []
    },
    {
      "cell_type": "code",
      "source": [
        "sp500 = sp500.dropna()\n"
      ],
      "metadata": {
        "id": "1fMxUpV1cO86"
      },
      "execution_count": null,
      "outputs": []
    },
    {
      "cell_type": "code",
      "source": [
        "sp500"
      ],
      "metadata": {
        "id": "nH6_kiG_cQz_"
      },
      "execution_count": null,
      "outputs": []
    },
    {
      "cell_type": "code",
      "source": [
        "model = RandomForestClassifier(n_estimators=200, min_samples_split=50, random_state=1)\n"
      ],
      "metadata": {
        "id": "zf8Z5qA9cSvR"
      },
      "execution_count": null,
      "outputs": []
    },
    {
      "cell_type": "code",
      "source": [
        "def predict(train, test, predictors, model):\n",
        "    model.fit(train[predictors], train[\"Target\"])\n",
        "    preds = model.predict_proba(test[predictors])[:,1]\n",
        "    preds[preds >=.6] = 1\n",
        "    preds[preds <.6] = 0\n",
        "    preds = pd.Series(preds, index=test.index, name=\"Predictions\")\n",
        "    combined = pd.concat([test[\"Target\"], preds], axis=1)\n",
        "    return combined"
      ],
      "metadata": {
        "id": "OJAjnKJIcU89"
      },
      "execution_count": null,
      "outputs": []
    },
    {
      "cell_type": "code",
      "source": [
        "predictions = backtest(sp500, model, new_predictors)\n"
      ],
      "metadata": {
        "id": "P-VANhrdcWqp"
      },
      "execution_count": null,
      "outputs": []
    },
    {
      "cell_type": "code",
      "source": [
        "predictions[\"Predictions\"].value_counts()\n"
      ],
      "metadata": {
        "id": "nN83blyYcYnD"
      },
      "execution_count": null,
      "outputs": []
    },
    {
      "cell_type": "code",
      "source": [
        "precision_score(predictions[\"Target\"], predictions[\"Predictions\"])\n"
      ],
      "metadata": {
        "id": "atVSI3afcaYd"
      },
      "execution_count": null,
      "outputs": []
    },
    {
      "cell_type": "code",
      "source": [
        "predictions[\"Target\"].value_counts() / predictions.shape[0]\n"
      ],
      "metadata": {
        "id": "9GfeiEv6ccDx"
      },
      "execution_count": null,
      "outputs": []
    },
    {
      "cell_type": "code",
      "source": [
        ""
      ],
      "metadata": {
        "id": "YtzoSUcQcd7n"
      },
      "execution_count": null,
      "outputs": []
    }
  ]
}